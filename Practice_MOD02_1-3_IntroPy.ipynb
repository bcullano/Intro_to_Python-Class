{
  "cells": [
    {
      "metadata": {},
      "cell_type": "markdown",
      "source": "# 1-3 Intro Python Practice\n## Functions Arguments & Parameters\n<font size=\"5\" color=\"#00A0B2\"  face=\"verdana\"> <B>Student will be able to</B></font>  \n- **create functions with a parameter**  \n- **create functions with a `return` value** \n- **create functions with multiple parameters**\n- **use knowledge of sequence in coding tasks**  \n- **use coding best practices** "
    },
    {
      "metadata": {},
      "cell_type": "markdown",
      "source": "## &nbsp;\n<font size=\"6\" color=\"#B24C00\"  face=\"verdana\"> <B>Tasks</B></font>"
    },
    {
      "metadata": {
        "trusted": true
      },
      "cell_type": "code",
      "source": "# [ ] define and call a function short_rhyme() that prints a 2 line rhyme\ndef short_rhyme():\n    print('I want to fly high')\n    print(\"I don't wanna say goodbye\")\nshort_rhyme()\n",
      "execution_count": 1,
      "outputs": [
        {
          "output_type": "stream",
          "text": "I want to fly high\nI don't wanna say goodbye\n",
          "name": "stdout"
        }
      ]
    },
    {
      "metadata": {
        "trusted": true
      },
      "cell_type": "code",
      "source": "# [ ] define (def) a simple function: title_it() and call the function\n# - has a string parameter: msg\n# - prints msg in Title Case\ndef title_it():\n    msg=input('Message: ')\n    print(msg.title())\ntitle_it()",
      "execution_count": 8,
      "outputs": [
        {
          "output_type": "stream",
          "name": "stdout",
          "text": "Message: Hi\nHi\n"
        }
      ]
    },
    {
      "metadata": {
        "trusted": true
      },
      "cell_type": "code",
      "source": "# [ ] get user input with prompt \"what is the title?\" \n# [ ] call title_it() using input for the string argument\ndef title_it():\n    msg=input('What is the title?: ')\n    print(msg.title())\ntitle_it()\n",
      "execution_count": 9,
      "outputs": [
        {
          "output_type": "stream",
          "name": "stdout",
          "text": "What is the title?: Alien\nAlien\n"
        }
      ]
    },
    {
      "metadata": {
        "trusted": true
      },
      "cell_type": "code",
      "source": "# [ ] define title_it_rtn() which returns a titled string instead of printing\n# [ ] call title_it_rtn() using input for the string argumetnt and print the result\ndef title_it_rtn():\n    book=input('What is the title?: ')\n    return book.title()\nprint(title_it_rtn())",
      "execution_count": 18,
      "outputs": [
        {
          "output_type": "stream",
          "name": "stdout",
          "text": "What is the title?: Harry Potter\nHarry Potter\n"
        }
      ]
    },
    {
      "metadata": {},
      "cell_type": "markdown",
      "source": "## Program: bookstore()\ncreate and test bookstore()\n- **bookstore() takes 2 string arguments: book & price**\n- **bookstore returns a string in sentence form** \n- **bookstore() should call title_it_rtn()** with book parameter  \n- **gather input for book_entry and price_entry to use in calling bookstore()**\n- **print the return value of bookstore()**\n>example of output: **`Title: The Adventures Of Sherlock Holmes, costs $12.99`**"
    },
    {
      "metadata": {
        "trusted": true
      },
      "cell_type": "code",
      "source": "# [ ] create, call and test bookstore() function\ndef bookstore(book, price):\n    return ('The price of ' + book + ' is $' + price)\n    \ndef title_it_rtn():\n    book_entry=input('What is the title of the book?: ')\n    return book_entry.title()\n\ndef price_item():\n    price_entry=input('What is the price?: ')\n    return price_entry\n\nprint(bookstore(title_it_rtn(), price_item()))",
      "execution_count": 36,
      "outputs": [
        {
          "output_type": "stream",
          "name": "stdout",
          "text": "What is the title of the book?: Harry Potter\nWhat is the price?: 5.99\nThe price of Harry Potter is $5.99\n"
        }
      ]
    },
    {
      "metadata": {},
      "cell_type": "markdown",
      "source": "### Fix the error"
    },
    {
      "metadata": {
        "trusted": true
      },
      "cell_type": "code",
      "source": "def make_greeting(name, greeting):\n    return (greeting + \" \" + name + \"!\")\n\n# get name and greeting, send to make_greeting \ndef get_name():\n    name_entry = input(\"enter a name: \")\n    return name_entry\n\ndef get_greeting():\n    greeting_entry = input(\"enter a greeting: \")\n    return greeting_entry\n\nprint(make_greeting(get_name(), get_greeting()))\n\n",
      "execution_count": 31,
      "outputs": [
        {
          "output_type": "stream",
          "name": "stdout",
          "text": "enter a name: Bryan\nenter a greeting: hi\nhi Bryan!\n"
        }
      ]
    },
    {
      "metadata": {},
      "cell_type": "markdown",
      "source": "\n[Terms of use](http://go.microsoft.com/fwlink/?LinkID=206977) &nbsp; [Privacy & cookies](https://go.microsoft.com/fwlink/?LinkId=521839) &nbsp; © 2017 Microsoft"
    }
  ],
  "metadata": {
    "anaconda-cloud": {},
    "kernelspec": {
      "name": "python3",
      "display_name": "Python 3",
      "language": "python"
    },
    "language_info": {
      "mimetype": "text/x-python",
      "nbconvert_exporter": "python",
      "name": "python",
      "pygments_lexer": "ipython3",
      "version": "3.5.4",
      "file_extension": ".py",
      "codemirror_mode": {
        "version": 3,
        "name": "ipython"
      }
    }
  },
  "nbformat": 4,
  "nbformat_minor": 1
}