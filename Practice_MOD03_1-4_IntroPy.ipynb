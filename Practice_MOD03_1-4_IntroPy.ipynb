{
  "cells": [
    {
      "metadata": {},
      "cell_type": "markdown",
      "source": "# 1-4.3 Intro Python Practice\n## Conditionals \n<font size=\"5\" color=\"#00A0B2\"  face=\"verdana\"> <B>Student will be able to</B></font>  \n- **control code flow with `if`... `else` conditional logic**  \n  - using Boolean string methods (`.isupper(), .isalpha(), .startswith()...`)  \n  - using comparision (`>, <, >=, <=, ==, !=`)  \n  - using Strings in comparisons  "
    },
    {
      "metadata": {},
      "cell_type": "markdown",
      "source": "## `if else`\n"
    },
    {
      "metadata": {
        "trusted": true
      },
      "cell_type": "code",
      "source": "# [ ] input a variable: age as digit and cast to int\n# if age greater than or equal to 12 then print message on age in 10 years \n# or else print message \"It is good to be\" age\nage=int(input('Enter age: '))\nif age >= 12:\n    print('Age in 10 years will be: ',age+10)\nelse:\n    print('It is good to be',age)\n\n\n\n",
      "execution_count": 1,
      "outputs": [
        {
          "output_type": "stream",
          "name": "stdout",
          "text": "Enter age: 20\nAge in 10 years will be:  30\n"
        }
      ]
    },
    {
      "metadata": {
        "trusted": true
      },
      "cell_type": "code",
      "source": "# [ ] input a number \n# if number IS a digit string then cast to int\n# print number \"greater than 100 is\" True/False\n# if number is NOT a digit string then message the user that \"only int is accepted\"\nnum=input('Enter number: ')\nif num.isdigit():\n    print(num,'greater than 100 is',int(num)>100)\nelse:\n    print('Only integers are accepted')",
      "execution_count": 2,
      "outputs": [
        {
          "output_type": "stream",
          "name": "stdout",
          "text": "Enter number: 5\n5 greater than 100 is False\n"
        }
      ]
    },
    {
      "metadata": {},
      "cell_type": "markdown",
      "source": "### Guessing a letter A-Z  \n**check_guess()** takes 2 string arguments: **letter and guess** (both expect single alphabetical character)   \n    - if guess is not an alpha character print invalid and return False\n    - test and print if guess is \"high\" or \"low\" and return False\n    - test and print if guess is \"correct\" and return True"
    },
    {
      "metadata": {
        "trusted": true
      },
      "cell_type": "code",
      "source": "# [ ] create check_guess()\n# call with test\ndef check_guess(letter,guess):\n    if guess.isalpha() == False:\n        print('Invalid guess')\n        return False\n    elif guess>letter:\n        print('Guess is high')\n        return False\n    elif guess<letter:\n        print('Guess is low')\n        return False\n    elif guess==letter:\n        print('Guess is correct')\n        return True\n    else:\n        pass\ncheck_guess('b','c')",
      "execution_count": 14,
      "outputs": [
        {
          "output_type": "stream",
          "text": "Guess is high\n",
          "name": "stdout"
        },
        {
          "output_type": "execute_result",
          "execution_count": 14,
          "data": {
            "text/plain": "False"
          },
          "metadata": {}
        }
      ]
    },
    {
      "metadata": {
        "trusted": true
      },
      "cell_type": "code",
      "source": "# [ ] call check_guess with user input\nguess=input('Enter guess: ').lower()\ndef check_guess(letter,guess):\n    if guess.isalpha() == False:\n        print('Invalid guess')\n        return False\n    elif guess>letter:\n        print('Guess is high')\n        return False\n    elif guess<letter:\n        print('Guess is low')\n        return False\n    elif guess==letter:\n        print('Guess is correct')\n        return True\ncheck_guess('b',guess) ",
      "execution_count": 21,
      "outputs": [
        {
          "output_type": "stream",
          "name": "stdout",
          "text": "Enter guess: C\nGuess is high\n"
        },
        {
          "output_type": "execute_result",
          "execution_count": 21,
          "data": {
            "text/plain": "False"
          },
          "metadata": {}
        }
      ]
    },
    {
      "metadata": {},
      "cell_type": "markdown",
      "source": "### Letter Guess\n**create letter_guess() function that gives user 3 guesses**\n- takes a letter character argument for the answer letter\n- gets user input for letter guess  \n- calls check_guess() with answer and guess\n- End letter_guess if \n    - check_guess() equals True, return True  \n    - or after 3 failed attempts, return False"
    },
    {
      "metadata": {
        "trusted": true
      },
      "cell_type": "code",
      "source": "# [ ] create letter_guess() function, call the function to test\ndef check_guess(letter,guess):\n    if guess.isalpha() == False:\n        print('Invalid guess')\n        return False\n    elif guess>letter:\n        print('Guess is high')\n        return False\n    elif guess<letter:\n        print('Guess is low')\n        return False\n    elif guess==letter:\n        print('Guess is correct')\n        return True\ndef letter_guess():\n    attempts=0\n    while attempts < 3:\n        guess=input('Enter guess: ').lower()\n        attempts+=1\n        if check_guess('b',guess) == True:\n            break \n        elif attempts == 3:\n            print('No more attempts.')\n            break\nletter_guess()",
      "execution_count": 11,
      "outputs": [
        {
          "output_type": "stream",
          "name": "stdout",
          "text": "Enter guess: D\nGuess is high\nEnter guess: B\nGuess is correct\n"
        }
      ]
    },
    {
      "metadata": {},
      "cell_type": "markdown",
      "source": "### Pet Conversation\n**ask the user for a sentence about a pet and then reply**  \n- get user input in variable: about_pet\n- using a series of **if** statements respond with appropriate conversation\n  - check if \"dog\" is in the string about_pet (sample reply \"Ah, a dog\")\n  - check if \"cat\" is in the string about_pet\n  - check if 1 or more animal is in string about_pet\n- no need for **else**'s\n- finish with thanking for the story"
    },
    {
      "metadata": {
        "trusted": true
      },
      "cell_type": "code",
      "source": "# [ ] complete pet conversation\nabout_pet=input('Enter sentence about pet: ')\nif 'dog' in about_pet.lower():\n    print('Ah, a dog')\nelif 'cat' in about_pet.lower():\n    print('Ah, a cat')\nelif 'human' in about_pet.lower():\n    print('Ah, that is illegal')\nprint('Thank you for the story')\n",
      "execution_count": 43,
      "outputs": [
        {
          "output_type": "stream",
          "name": "stdout",
          "text": "Enter sentence about pet: It is a human\nAh, that is illegal\nThank you for the story\n"
        }
      ]
    },
    {
      "metadata": {
        "collapsed": true
      },
      "cell_type": "markdown",
      "source": "[Terms of use](http://go.microsoft.com/fwlink/?LinkID=206977) &nbsp; [Privacy & cookies](https://go.microsoft.com/fwlink/?LinkId=521839) &nbsp; © 2017 Microsoft"
    }
  ],
  "metadata": {
    "anaconda-cloud": {},
    "kernelspec": {
      "name": "python3",
      "display_name": "Python 3",
      "language": "python"
    },
    "language_info": {
      "mimetype": "text/x-python",
      "nbconvert_exporter": "python",
      "name": "python",
      "file_extension": ".py",
      "version": "3.5.4",
      "pygments_lexer": "ipython3",
      "codemirror_mode": {
        "version": 3,
        "name": "ipython"
      }
    }
  },
  "nbformat": 4,
  "nbformat_minor": 1
}